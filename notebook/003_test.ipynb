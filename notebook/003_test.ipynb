{
 "cells": [
  {
   "cell_type": "code",
   "execution_count": 1,
   "metadata": {},
   "outputs": [],
   "source": [
    "import numpy as np\n",
    "import pandas as pd\n",
    "import matplotlib.pyplot as plt\n",
    "pd.set_option('max_rows', 300)\n",
    "pd.set_option('max_columns', 300)\n",
    "import glob\n",
    "import lightgbm as lgbm\n",
    "from sklearn.model_selection import KFold\n",
    "import pickle\n",
    "\n",
    "import os\n",
    "import sys\n",
    "sys.path.append('/home/cggyoshikawa/work/kaggle/OPVP')\n"
   ]
  },
  {
   "cell_type": "code",
   "execution_count": 2,
   "metadata": {},
   "outputs": [],
   "source": [
    "data_dir = '../input/optiver-realized-volatility-prediction/'"
   ]
  },
  {
   "cell_type": "code",
   "execution_count": 3,
   "metadata": {},
   "outputs": [],
   "source": [
    "df_test = pd.read_pickle('/home/cggyoshikawa/work/kaggle/OPVP/output/feature/nb002/test.pkl')\n",
    "\n",
    "y_pred = df_test[['row_id']]\n",
    "X_test = df_test.drop(['time_id', 'row_id'], axis=1)"
   ]
  },
  {
   "cell_type": "code",
   "execution_count": null,
   "metadata": {},
   "outputs": [
    {
     "data": {
      "text/html": [
       "<div>\n",
       "<style scoped>\n",
       "    .dataframe tbody tr th:only-of-type {\n",
       "        vertical-align: middle;\n",
       "    }\n",
       "\n",
       "    .dataframe tbody tr th {\n",
       "        vertical-align: top;\n",
       "    }\n",
       "\n",
       "    .dataframe thead th {\n",
       "        text-align: right;\n",
       "    }\n",
       "</style>\n",
       "<table border=\"1\" class=\"dataframe\">\n",
       "  <thead>\n",
       "    <tr style=\"text-align: right;\">\n",
       "      <th></th>\n",
       "      <th>row_id</th>\n",
       "      <th>target</th>\n",
       "    </tr>\n",
       "  </thead>\n",
       "  <tbody>\n",
       "    <tr>\n",
       "      <th>0</th>\n",
       "      <td>0-4</td>\n",
       "      <td>0.001280</td>\n",
       "    </tr>\n",
       "    <tr>\n",
       "      <th>1</th>\n",
       "      <td>0-32</td>\n",
       "      <td>0.001399</td>\n",
       "    </tr>\n",
       "    <tr>\n",
       "      <th>2</th>\n",
       "      <td>0-34</td>\n",
       "      <td>0.001399</td>\n",
       "    </tr>\n",
       "  </tbody>\n",
       "</table>\n",
       "</div>"
      ],
      "text/plain": [
       "  row_id    target\n",
       "0    0-4  0.001280\n",
       "1   0-32  0.001399\n",
       "2   0-34  0.001399"
      ]
     },
     "execution_count": 4,
     "metadata": {},
     "output_type": "execute_result"
    }
   ],
   "source": [
    "target = np.zeros(len(X_test))\n",
    "models = []\n",
    "for i in range(5):\n",
    "    with open('../output/model/nb002/lgbm'+str(i)+'.pkl', 'rb') as f:\n",
    "        models.append(pickle.load(f))\n",
    "\n",
    "for model in models:\n",
    "    pred = model.predict(X_test, num_iteration=model.best_iteration)\n",
    "    target += pred / len(models)\n",
    "    \n",
    "y_pred = y_pred.assign(target=target)\n",
    "y_pred"
   ]
  },
  {
   "cell_type": "code",
   "execution_count": null,
   "metadata": {},
   "outputs": [],
   "source": [
    "# y_pred.to_csv('submission.csv',index = False)"
   ]
  }
 ],
 "metadata": {
  "interpreter": {
   "hash": "ce89f05545f894fe1f6e84cf245fe03b101cd59822794a636dfbea0f783d737d"
  },
  "kernelspec": {
   "display_name": "Python 3.7.10 64-bit ('kaggle': pyenv)",
   "name": "python3"
  },
  "language_info": {
   "codemirror_mode": {
    "name": "ipython",
    "version": 3
   },
   "file_extension": ".py",
   "mimetype": "text/x-python",
   "name": "python",
   "nbconvert_exporter": "python",
   "pygments_lexer": "ipython3",
   "version": "3.7.10"
  }
 },
 "nbformat": 4,
 "nbformat_minor": 4
}