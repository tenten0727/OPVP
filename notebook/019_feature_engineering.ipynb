{
 "cells": [
  {
   "cell_type": "code",
   "execution_count": 1,
   "metadata": {},
   "outputs": [],
   "source": [
    "import pandas as pd\n",
    "import pickle\n"
   ]
  },
  {
   "cell_type": "code",
   "execution_count": 2,
   "metadata": {},
   "outputs": [],
   "source": [
    "df_train = pd.read_pickle('/home/yoshikawa/work/kaggle/OPVP/output/feature_model/20210910/lgbm/train.pkl')"
   ]
  },
  {
   "cell_type": "code",
   "execution_count": 3,
   "metadata": {},
   "outputs": [
    {
     "data": {
      "text/html": [
       "<div>\n",
       "<style scoped>\n",
       "    .dataframe tbody tr th:only-of-type {\n",
       "        vertical-align: middle;\n",
       "    }\n",
       "\n",
       "    .dataframe tbody tr th {\n",
       "        vertical-align: top;\n",
       "    }\n",
       "\n",
       "    .dataframe thead th {\n",
       "        text-align: right;\n",
       "    }\n",
       "</style>\n",
       "<table border=\"1\" class=\"dataframe\">\n",
       "  <thead>\n",
       "    <tr style=\"text-align: right;\">\n",
       "      <th></th>\n",
       "      <th>row_id</th>\n",
       "      <th>target</th>\n",
       "      <th>log_return_realized_volatility</th>\n",
       "      <th>log_return_mean</th>\n",
       "      <th>log_return_std</th>\n",
       "      <th>log_return2_realized_volatility</th>\n",
       "      <th>log_return2_mean</th>\n",
       "      <th>log_return2_std</th>\n",
       "      <th>log_return3_realized_volatility</th>\n",
       "      <th>log_return3_mean</th>\n",
       "      <th>...</th>\n",
       "      <th>trade_log_return_per_amount_realized_volatility_300_relative</th>\n",
       "      <th>trade_log_return_seconds_diff_realized_volatility_300_relative</th>\n",
       "      <th>trade_log_return_realized_volatility_200_relative</th>\n",
       "      <th>trade_log_return_per_size_realized_volatility_200_relative</th>\n",
       "      <th>trade_log_return_per_amount_realized_volatility_200_relative</th>\n",
       "      <th>trade_log_return_seconds_diff_realized_volatility_200_relative</th>\n",
       "      <th>trade_log_return_realized_volatility_100_relative</th>\n",
       "      <th>trade_log_return_per_size_realized_volatility_100_relative</th>\n",
       "      <th>trade_log_return_per_amount_realized_volatility_100_relative</th>\n",
       "      <th>trade_log_return_seconds_diff_realized_volatility_100_relative</th>\n",
       "    </tr>\n",
       "  </thead>\n",
       "  <tbody>\n",
       "    <tr>\n",
       "      <th>0</th>\n",
       "      <td>0-5</td>\n",
       "      <td>0.004136</td>\n",
       "      <td>0.004499</td>\n",
       "      <td>7.613599e-06</td>\n",
       "      <td>0.000260</td>\n",
       "      <td>0.006999</td>\n",
       "      <td>0.000008</td>\n",
       "      <td>0.000404</td>\n",
       "      <td>0.005466</td>\n",
       "      <td>0.000003</td>\n",
       "      <td>...</td>\n",
       "      <td>0.000025</td>\n",
       "      <td>0.000912</td>\n",
       "      <td>-0.000478</td>\n",
       "      <td>-0.000042</td>\n",
       "      <td>-0.000042</td>\n",
       "      <td>0.001752</td>\n",
       "      <td>-0.000578</td>\n",
       "      <td>-0.000025</td>\n",
       "      <td>-0.000025</td>\n",
       "      <td>0.002397</td>\n",
       "    </tr>\n",
       "    <tr>\n",
       "      <th>1</th>\n",
       "      <td>0-11</td>\n",
       "      <td>0.001445</td>\n",
       "      <td>0.001204</td>\n",
       "      <td>1.810239e-06</td>\n",
       "      <td>0.000086</td>\n",
       "      <td>0.002476</td>\n",
       "      <td>0.000004</td>\n",
       "      <td>0.000176</td>\n",
       "      <td>0.001782</td>\n",
       "      <td>0.000005</td>\n",
       "      <td>...</td>\n",
       "      <td>-0.000087</td>\n",
       "      <td>-0.007827</td>\n",
       "      <td>-0.000267</td>\n",
       "      <td>-0.000113</td>\n",
       "      <td>-0.000113</td>\n",
       "      <td>-0.008360</td>\n",
       "      <td>-0.000384</td>\n",
       "      <td>-0.000127</td>\n",
       "      <td>-0.000126</td>\n",
       "      <td>-0.010889</td>\n",
       "    </tr>\n",
       "    <tr>\n",
       "      <th>2</th>\n",
       "      <td>0-16</td>\n",
       "      <td>0.002168</td>\n",
       "      <td>0.002369</td>\n",
       "      <td>-1.109201e-05</td>\n",
       "      <td>0.000173</td>\n",
       "      <td>0.004801</td>\n",
       "      <td>-0.000008</td>\n",
       "      <td>0.000352</td>\n",
       "      <td>0.002624</td>\n",
       "      <td>-0.000012</td>\n",
       "      <td>...</td>\n",
       "      <td>-0.000112</td>\n",
       "      <td>0.003209</td>\n",
       "      <td>0.000311</td>\n",
       "      <td>0.000179</td>\n",
       "      <td>0.000179</td>\n",
       "      <td>0.004180</td>\n",
       "      <td>0.000454</td>\n",
       "      <td>0.000195</td>\n",
       "      <td>0.000195</td>\n",
       "      <td>0.011861</td>\n",
       "    </tr>\n",
       "    <tr>\n",
       "      <th>3</th>\n",
       "      <td>0-31</td>\n",
       "      <td>0.002195</td>\n",
       "      <td>0.002574</td>\n",
       "      <td>-2.376661e-05</td>\n",
       "      <td>0.000236</td>\n",
       "      <td>0.003637</td>\n",
       "      <td>-0.000017</td>\n",
       "      <td>0.000334</td>\n",
       "      <td>0.002356</td>\n",
       "      <td>-0.000013</td>\n",
       "      <td>...</td>\n",
       "      <td>-0.000084</td>\n",
       "      <td>0.030702</td>\n",
       "      <td>-0.000161</td>\n",
       "      <td>-0.000141</td>\n",
       "      <td>-0.000141</td>\n",
       "      <td>0.023069</td>\n",
       "      <td>0.000134</td>\n",
       "      <td>-0.000178</td>\n",
       "      <td>-0.000178</td>\n",
       "      <td>0.033921</td>\n",
       "    </tr>\n",
       "    <tr>\n",
       "      <th>4</th>\n",
       "      <td>0-62</td>\n",
       "      <td>0.001747</td>\n",
       "      <td>0.001894</td>\n",
       "      <td>-1.057099e-08</td>\n",
       "      <td>0.000144</td>\n",
       "      <td>0.003257</td>\n",
       "      <td>-0.000002</td>\n",
       "      <td>0.000247</td>\n",
       "      <td>0.002118</td>\n",
       "      <td>0.000001</td>\n",
       "      <td>...</td>\n",
       "      <td>-0.000134</td>\n",
       "      <td>-0.011067</td>\n",
       "      <td>-0.000463</td>\n",
       "      <td>-0.000154</td>\n",
       "      <td>-0.000154</td>\n",
       "      <td>-0.012745</td>\n",
       "      <td>-0.000552</td>\n",
       "      <td>-0.000187</td>\n",
       "      <td>-0.000187</td>\n",
       "      <td>-0.016745</td>\n",
       "    </tr>\n",
       "  </tbody>\n",
       "</table>\n",
       "<p>5 rows × 902 columns</p>\n",
       "</div>"
      ],
      "text/plain": [
       "  row_id    target  log_return_realized_volatility  log_return_mean  \\\n",
       "0    0-5  0.004136                        0.004499     7.613599e-06   \n",
       "1   0-11  0.001445                        0.001204     1.810239e-06   \n",
       "2   0-16  0.002168                        0.002369    -1.109201e-05   \n",
       "3   0-31  0.002195                        0.002574    -2.376661e-05   \n",
       "4   0-62  0.001747                        0.001894    -1.057099e-08   \n",
       "\n",
       "   log_return_std  log_return2_realized_volatility  log_return2_mean  \\\n",
       "0        0.000260                         0.006999          0.000008   \n",
       "1        0.000086                         0.002476          0.000004   \n",
       "2        0.000173                         0.004801         -0.000008   \n",
       "3        0.000236                         0.003637         -0.000017   \n",
       "4        0.000144                         0.003257         -0.000002   \n",
       "\n",
       "   log_return2_std  log_return3_realized_volatility  log_return3_mean  ...  \\\n",
       "0         0.000404                         0.005466          0.000003  ...   \n",
       "1         0.000176                         0.001782          0.000005  ...   \n",
       "2         0.000352                         0.002624         -0.000012  ...   \n",
       "3         0.000334                         0.002356         -0.000013  ...   \n",
       "4         0.000247                         0.002118          0.000001  ...   \n",
       "\n",
       "   trade_log_return_per_amount_realized_volatility_300_relative  \\\n",
       "0                                           0.000025              \n",
       "1                                          -0.000087              \n",
       "2                                          -0.000112              \n",
       "3                                          -0.000084              \n",
       "4                                          -0.000134              \n",
       "\n",
       "   trade_log_return_seconds_diff_realized_volatility_300_relative  \\\n",
       "0                                           0.000912                \n",
       "1                                          -0.007827                \n",
       "2                                           0.003209                \n",
       "3                                           0.030702                \n",
       "4                                          -0.011067                \n",
       "\n",
       "   trade_log_return_realized_volatility_200_relative  \\\n",
       "0                                          -0.000478   \n",
       "1                                          -0.000267   \n",
       "2                                           0.000311   \n",
       "3                                          -0.000161   \n",
       "4                                          -0.000463   \n",
       "\n",
       "   trade_log_return_per_size_realized_volatility_200_relative  \\\n",
       "0                                          -0.000042            \n",
       "1                                          -0.000113            \n",
       "2                                           0.000179            \n",
       "3                                          -0.000141            \n",
       "4                                          -0.000154            \n",
       "\n",
       "   trade_log_return_per_amount_realized_volatility_200_relative  \\\n",
       "0                                          -0.000042              \n",
       "1                                          -0.000113              \n",
       "2                                           0.000179              \n",
       "3                                          -0.000141              \n",
       "4                                          -0.000154              \n",
       "\n",
       "   trade_log_return_seconds_diff_realized_volatility_200_relative  \\\n",
       "0                                           0.001752                \n",
       "1                                          -0.008360                \n",
       "2                                           0.004180                \n",
       "3                                           0.023069                \n",
       "4                                          -0.012745                \n",
       "\n",
       "   trade_log_return_realized_volatility_100_relative  \\\n",
       "0                                          -0.000578   \n",
       "1                                          -0.000384   \n",
       "2                                           0.000454   \n",
       "3                                           0.000134   \n",
       "4                                          -0.000552   \n",
       "\n",
       "   trade_log_return_per_size_realized_volatility_100_relative  \\\n",
       "0                                          -0.000025            \n",
       "1                                          -0.000127            \n",
       "2                                           0.000195            \n",
       "3                                          -0.000178            \n",
       "4                                          -0.000187            \n",
       "\n",
       "   trade_log_return_per_amount_realized_volatility_100_relative  \\\n",
       "0                                          -0.000025              \n",
       "1                                          -0.000126              \n",
       "2                                           0.000195              \n",
       "3                                          -0.000178              \n",
       "4                                          -0.000187              \n",
       "\n",
       "   trade_log_return_seconds_diff_realized_volatility_100_relative  \n",
       "0                                           0.002397               \n",
       "1                                          -0.010889               \n",
       "2                                           0.011861               \n",
       "3                                           0.033921               \n",
       "4                                          -0.016745               \n",
       "\n",
       "[5 rows x 902 columns]"
      ]
     },
     "execution_count": 3,
     "metadata": {},
     "output_type": "execute_result"
    }
   ],
   "source": [
    "df_train.head()"
   ]
  },
  {
   "cell_type": "code",
   "execution_count": 4,
   "metadata": {},
   "outputs": [
    {
     "data": {
      "text/plain": [
       "428932"
      ]
     },
     "execution_count": 4,
     "metadata": {},
     "output_type": "execute_result"
    }
   ],
   "source": [
    "len(df_train[df_train.target < 0.1])"
   ]
  },
  {
   "cell_type": "code",
   "execution_count": 9,
   "metadata": {},
   "outputs": [
    {
     "data": {
      "text/plain": [
       "0.5007040743054844"
      ]
     },
     "execution_count": 9,
     "metadata": {},
     "output_type": "execute_result"
    }
   ],
   "source": [
    "\n",
    "def up_rate(series):\n",
    "    return len(series[series.diff() > 0]) / len(series)\n",
    "\n",
    "up_count(df_train.target)"
   ]
  },
  {
   "cell_type": "code",
   "execution_count": 24,
   "metadata": {},
   "outputs": [],
   "source": [
    "def last_value(series):\n",
    "    return series[len(series)-1] - series.mean()"
   ]
  },
  {
   "cell_type": "code",
   "execution_count": 23,
   "metadata": {},
   "outputs": [
    {
     "data": {
      "text/plain": [
       "0.004135767"
      ]
     },
     "execution_count": 23,
     "metadata": {},
     "output_type": "execute_result"
    }
   ],
   "source": [
    "df_train.target[0]"
   ]
  },
  {
   "cell_type": "code",
   "execution_count": 25,
   "metadata": {},
   "outputs": [
    {
     "data": {
      "text/plain": [
       "-0.0017900455369522436"
      ]
     },
     "execution_count": 25,
     "metadata": {},
     "output_type": "execute_result"
    }
   ],
   "source": [
    "last_value(df_train.target)"
   ]
  },
  {
   "cell_type": "code",
   "execution_count": 27,
   "metadata": {},
   "outputs": [
    {
     "data": {
      "text/plain": [
       "0         0.002374\n",
       "1         0.002374\n",
       "2         0.002374\n",
       "3         0.002374\n",
       "4         0.002374\n",
       "            ...   \n",
       "428927    0.003125\n",
       "428928    0.003125\n",
       "428929    0.003125\n",
       "428930    0.003125\n",
       "428931    0.003125\n",
       "Name: log_return_realized_volatility_400_mean_stock, Length: 428932, dtype: float64"
      ]
     },
     "execution_count": 27,
     "metadata": {},
     "output_type": "execute_result"
    }
   ],
   "source": [
    "df_train['log_return_realized_volatility_400_mean_stock']"
   ]
  }
 ],
 "metadata": {
  "interpreter": {
   "hash": "31f2aee4e71d21fbe5cf8b01ff0e069b9275f58929596ceb00d14d90e3e16cd6"
  },
  "kernelspec": {
   "display_name": "Python 3.8.10 64-bit",
   "name": "python3"
  },
  "language_info": {
   "codemirror_mode": {
    "name": "ipython",
    "version": 3
   },
   "file_extension": ".py",
   "mimetype": "text/x-python",
   "name": "python",
   "nbconvert_exporter": "python",
   "pygments_lexer": "ipython3",
   "version": "3.7.10"
  },
  "orig_nbformat": 4
 },
 "nbformat": 4,
 "nbformat_minor": 2
}