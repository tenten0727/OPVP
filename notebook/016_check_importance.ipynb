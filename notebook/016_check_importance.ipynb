{
 "cells": [
  {
   "cell_type": "code",
   "execution_count": 8,
   "metadata": {},
   "outputs": [],
   "source": [
    "import pickle\n",
    "import sys\n",
    "sys.path.append('..')\n",
    "from utils import calc_model_importance\n",
    "import pandas as pd"
   ]
  },
  {
   "cell_type": "code",
   "execution_count": 9,
   "metadata": {},
   "outputs": [],
   "source": [
    "model = pickle.load(open('/home/yoshikawa/work/kaggle/OPVP/output/feature_model/20210903/lgbm_test_importance_figure/lgbm0.pkl', 'rb'))\n",
    "df_train = pd.read_pickle('/home/yoshikawa/work/kaggle/OPVP/output/feature_model/20210901/new_feature_lgbm2/train.pkl')"
   ]
  },
  {
   "cell_type": "code",
   "execution_count": 11,
   "metadata": {},
   "outputs": [
    {
     "data": {
      "text/html": [
       "<div>\n",
       "<style scoped>\n",
       "    .dataframe tbody tr th:only-of-type {\n",
       "        vertical-align: middle;\n",
       "    }\n",
       "\n",
       "    .dataframe tbody tr th {\n",
       "        vertical-align: top;\n",
       "    }\n",
       "\n",
       "    .dataframe thead th {\n",
       "        text-align: right;\n",
       "    }\n",
       "</style>\n",
       "<table border=\"1\" class=\"dataframe\">\n",
       "  <thead>\n",
       "    <tr style=\"text-align: right;\">\n",
       "      <th></th>\n",
       "      <th>importance</th>\n",
       "    </tr>\n",
       "  </thead>\n",
       "  <tbody>\n",
       "    <tr>\n",
       "      <th>trade_log_return_realized_volatility_500_min_stock</th>\n",
       "      <td>0.000000e+00</td>\n",
       "    </tr>\n",
       "    <tr>\n",
       "      <th>log_return_realized_volatility_300_max_stock</th>\n",
       "      <td>1.028440e+00</td>\n",
       "    </tr>\n",
       "    <tr>\n",
       "      <th>log_return_realized_volatility_100_max_stock</th>\n",
       "      <td>1.226510e+00</td>\n",
       "    </tr>\n",
       "    <tr>\n",
       "      <th>log_return2_realized_volatility_400_min_stock</th>\n",
       "      <td>1.931295e+00</td>\n",
       "    </tr>\n",
       "    <tr>\n",
       "      <th>trade_log_return_realized_volatility_400_min_stock</th>\n",
       "      <td>3.033160e+00</td>\n",
       "    </tr>\n",
       "    <tr>\n",
       "      <th>...</th>\n",
       "      <td>...</td>\n",
       "    </tr>\n",
       "    <tr>\n",
       "      <th>stock_id</th>\n",
       "      <td>1.020617e+05</td>\n",
       "    </tr>\n",
       "    <tr>\n",
       "      <th>log_return2_realized_volatility_100</th>\n",
       "      <td>1.819830e+05</td>\n",
       "    </tr>\n",
       "    <tr>\n",
       "      <th>log_return_realized_volatility_200</th>\n",
       "      <td>4.363657e+05</td>\n",
       "    </tr>\n",
       "    <tr>\n",
       "      <th>log_return_realized_volatility_100</th>\n",
       "      <td>7.910700e+05</td>\n",
       "    </tr>\n",
       "    <tr>\n",
       "      <th>log_return_realized_volatility</th>\n",
       "      <td>2.333719e+06</td>\n",
       "    </tr>\n",
       "  </tbody>\n",
       "</table>\n",
       "<p>407 rows × 1 columns</p>\n",
       "</div>"
      ],
      "text/plain": [
       "                                                      importance\n",
       "trade_log_return_realized_volatility_500_min_stock  0.000000e+00\n",
       "log_return_realized_volatility_300_max_stock        1.028440e+00\n",
       "log_return_realized_volatility_100_max_stock        1.226510e+00\n",
       "log_return2_realized_volatility_400_min_stock       1.931295e+00\n",
       "trade_log_return_realized_volatility_400_min_stock  3.033160e+00\n",
       "...                                                          ...\n",
       "stock_id                                            1.020617e+05\n",
       "log_return2_realized_volatility_100                 1.819830e+05\n",
       "log_return_realized_volatility_200                  4.363657e+05\n",
       "log_return_realized_volatility_100                  7.910700e+05\n",
       "log_return_realized_volatility                      2.333719e+06\n",
       "\n",
       "[407 rows x 1 columns]"
      ]
     },
     "execution_count": 11,
     "metadata": {},
     "output_type": "execute_result"
    }
   ],
   "source": [
    "imp = calc_model_importance(model, feature_names=df_train.drop(['row_id', 'time_id', 'target'], axis=1).columns.values.tolist())\n",
    "imp"
   ]
  }
 ],
 "metadata": {
  "interpreter": {
   "hash": "31f2aee4e71d21fbe5cf8b01ff0e069b9275f58929596ceb00d14d90e3e16cd6"
  },
  "kernelspec": {
   "display_name": "Python 3.8.10 64-bit",
   "name": "python3"
  },
  "language_info": {
   "codemirror_mode": {
    "name": "ipython",
    "version": 3
   },
   "file_extension": ".py",
   "mimetype": "text/x-python",
   "name": "python",
   "nbconvert_exporter": "python",
   "pygments_lexer": "ipython3",
   "version": "3.7.10"
  },
  "orig_nbformat": 4
 },
 "nbformat": 4,
 "nbformat_minor": 2
}