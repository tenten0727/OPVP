{
 "cells": [
  {
   "cell_type": "code",
   "execution_count": 1,
   "source": [
    "import pickle\n",
    "import sys\n",
    "sys.path.append('..')\n",
    "from utils import calc_model_importance\n",
    "from preprocess import add_cluster_feature, add_feature_pca\n",
    "import pandas as pd\n",
    "import numpy as np"
   ],
   "outputs": [],
   "metadata": {}
  },
  {
   "cell_type": "code",
   "execution_count": 2,
   "source": [
    "model = pickle.load(open('/home/yoshikawa/work/kaggle/OPVP/output/feature_model/20210903/lgbm_test_importance_figure/lgbm0.pkl', 'rb'))\n",
    "df_train = pd.read_pickle('/home/yoshikawa/work/kaggle/OPVP/output/feature_model/20210901/new_feature_lgbm2/train.pkl')"
   ],
   "outputs": [],
   "metadata": {}
  },
  {
   "cell_type": "code",
   "execution_count": 3,
   "source": [
    "imp = calc_model_importance(model, feature_names=df_train.drop(['row_id', 'time_id', 'target'], axis=1).columns.values.tolist())\n",
    "imp"
   ],
   "outputs": [
    {
     "output_type": "execute_result",
     "data": {
      "text/plain": [
       "                                                      importance\n",
       "trade_log_return_realized_volatility_500_min_stock  0.000000e+00\n",
       "trade_log_return_realized_volatility_400_min_stock  1.837203e+00\n",
       "log_return_realized_volatility_100_max_stock        2.840155e+00\n",
       "log_return2_realized_volatility_400_min_stock       5.269656e+00\n",
       "trade_log_return_realized_volatility_300_min_stock  5.651158e+00\n",
       "...                                                          ...\n",
       "stock_id                                            1.078424e+05\n",
       "log_return2_realized_volatility_100                 1.820456e+05\n",
       "log_return_realized_volatility_200                  4.365100e+05\n",
       "log_return_realized_volatility_100                  7.911601e+05\n",
       "log_return_realized_volatility                      2.333882e+06\n",
       "\n",
       "[407 rows x 1 columns]"
      ],
      "text/html": [
       "<div>\n",
       "<style scoped>\n",
       "    .dataframe tbody tr th:only-of-type {\n",
       "        vertical-align: middle;\n",
       "    }\n",
       "\n",
       "    .dataframe tbody tr th {\n",
       "        vertical-align: top;\n",
       "    }\n",
       "\n",
       "    .dataframe thead th {\n",
       "        text-align: right;\n",
       "    }\n",
       "</style>\n",
       "<table border=\"1\" class=\"dataframe\">\n",
       "  <thead>\n",
       "    <tr style=\"text-align: right;\">\n",
       "      <th></th>\n",
       "      <th>importance</th>\n",
       "    </tr>\n",
       "  </thead>\n",
       "  <tbody>\n",
       "    <tr>\n",
       "      <th>trade_log_return_realized_volatility_500_min_stock</th>\n",
       "      <td>0.000000e+00</td>\n",
       "    </tr>\n",
       "    <tr>\n",
       "      <th>trade_log_return_realized_volatility_400_min_stock</th>\n",
       "      <td>1.837203e+00</td>\n",
       "    </tr>\n",
       "    <tr>\n",
       "      <th>log_return_realized_volatility_100_max_stock</th>\n",
       "      <td>2.840155e+00</td>\n",
       "    </tr>\n",
       "    <tr>\n",
       "      <th>log_return2_realized_volatility_400_min_stock</th>\n",
       "      <td>5.269656e+00</td>\n",
       "    </tr>\n",
       "    <tr>\n",
       "      <th>trade_log_return_realized_volatility_300_min_stock</th>\n",
       "      <td>5.651158e+00</td>\n",
       "    </tr>\n",
       "    <tr>\n",
       "      <th>...</th>\n",
       "      <td>...</td>\n",
       "    </tr>\n",
       "    <tr>\n",
       "      <th>stock_id</th>\n",
       "      <td>1.078424e+05</td>\n",
       "    </tr>\n",
       "    <tr>\n",
       "      <th>log_return2_realized_volatility_100</th>\n",
       "      <td>1.820456e+05</td>\n",
       "    </tr>\n",
       "    <tr>\n",
       "      <th>log_return_realized_volatility_200</th>\n",
       "      <td>4.365100e+05</td>\n",
       "    </tr>\n",
       "    <tr>\n",
       "      <th>log_return_realized_volatility_100</th>\n",
       "      <td>7.911601e+05</td>\n",
       "    </tr>\n",
       "    <tr>\n",
       "      <th>log_return_realized_volatility</th>\n",
       "      <td>2.333882e+06</td>\n",
       "    </tr>\n",
       "  </tbody>\n",
       "</table>\n",
       "<p>407 rows × 1 columns</p>\n",
       "</div>"
      ]
     },
     "metadata": {},
     "execution_count": 3
    }
   ],
   "metadata": {}
  },
  {
   "cell_type": "code",
   "execution_count": 4,
   "source": [
    "volume = [col for col in list(df_train) if 'total_volume_mean' in col]\n",
    "volume"
   ],
   "outputs": [
    {
     "output_type": "execute_result",
     "data": {
      "text/plain": [
       "['total_volume_mean',\n",
       " 'total_volume_mean_500',\n",
       " 'total_volume_mean_400',\n",
       " 'total_volume_mean_300',\n",
       " 'total_volume_mean_200',\n",
       " 'total_volume_mean_100']"
      ]
     },
     "metadata": {},
     "execution_count": 4
    }
   ],
   "metadata": {}
  },
  {
   "cell_type": "code",
   "execution_count": 5,
   "source": [
    "volatility = [col for col in list(df_train) if 'volatility' in col]\n",
    "volatility"
   ],
   "outputs": [
    {
     "output_type": "execute_result",
     "data": {
      "text/plain": [
       "['log_return_realized_volatility',\n",
       " 'log_return2_realized_volatility',\n",
       " 'log_return_realized_volatility_500',\n",
       " 'log_return2_realized_volatility_500',\n",
       " 'log_return_realized_volatility_400',\n",
       " 'log_return2_realized_volatility_400',\n",
       " 'log_return_realized_volatility_300',\n",
       " 'log_return2_realized_volatility_300',\n",
       " 'log_return_realized_volatility_200',\n",
       " 'log_return2_realized_volatility_200',\n",
       " 'log_return_realized_volatility_100',\n",
       " 'log_return2_realized_volatility_100',\n",
       " 'trade_log_return_realized_volatility',\n",
       " 'trade_log_return_realized_volatility_500',\n",
       " 'trade_log_return_realized_volatility_400',\n",
       " 'trade_log_return_realized_volatility_300',\n",
       " 'trade_log_return_realized_volatility_200',\n",
       " 'trade_log_return_realized_volatility_100',\n",
       " 'log_return_realized_volatility_mean_stock',\n",
       " 'log_return_realized_volatility_std_stock',\n",
       " 'log_return_realized_volatility_max_stock',\n",
       " 'log_return_realized_volatility_min_stock',\n",
       " 'log_return2_realized_volatility_mean_stock',\n",
       " 'log_return2_realized_volatility_std_stock',\n",
       " 'log_return2_realized_volatility_max_stock',\n",
       " 'log_return2_realized_volatility_min_stock',\n",
       " 'log_return_realized_volatility_500_mean_stock',\n",
       " 'log_return_realized_volatility_500_std_stock',\n",
       " 'log_return_realized_volatility_500_max_stock',\n",
       " 'log_return_realized_volatility_500_min_stock',\n",
       " 'log_return2_realized_volatility_500_mean_stock',\n",
       " 'log_return2_realized_volatility_500_std_stock',\n",
       " 'log_return2_realized_volatility_500_max_stock',\n",
       " 'log_return2_realized_volatility_500_min_stock',\n",
       " 'log_return_realized_volatility_400_mean_stock',\n",
       " 'log_return_realized_volatility_400_std_stock',\n",
       " 'log_return_realized_volatility_400_max_stock',\n",
       " 'log_return_realized_volatility_400_min_stock',\n",
       " 'log_return2_realized_volatility_400_mean_stock',\n",
       " 'log_return2_realized_volatility_400_std_stock',\n",
       " 'log_return2_realized_volatility_400_max_stock',\n",
       " 'log_return2_realized_volatility_400_min_stock',\n",
       " 'log_return_realized_volatility_300_mean_stock',\n",
       " 'log_return_realized_volatility_300_std_stock',\n",
       " 'log_return_realized_volatility_300_max_stock',\n",
       " 'log_return_realized_volatility_300_min_stock',\n",
       " 'log_return2_realized_volatility_300_mean_stock',\n",
       " 'log_return2_realized_volatility_300_std_stock',\n",
       " 'log_return2_realized_volatility_300_max_stock',\n",
       " 'log_return2_realized_volatility_300_min_stock',\n",
       " 'log_return_realized_volatility_200_mean_stock',\n",
       " 'log_return_realized_volatility_200_std_stock',\n",
       " 'log_return_realized_volatility_200_max_stock',\n",
       " 'log_return_realized_volatility_200_min_stock',\n",
       " 'log_return2_realized_volatility_200_mean_stock',\n",
       " 'log_return2_realized_volatility_200_std_stock',\n",
       " 'log_return2_realized_volatility_200_max_stock',\n",
       " 'log_return2_realized_volatility_200_min_stock',\n",
       " 'log_return_realized_volatility_100_mean_stock',\n",
       " 'log_return_realized_volatility_100_std_stock',\n",
       " 'log_return_realized_volatility_100_max_stock',\n",
       " 'log_return_realized_volatility_100_min_stock',\n",
       " 'log_return2_realized_volatility_100_mean_stock',\n",
       " 'log_return2_realized_volatility_100_std_stock',\n",
       " 'log_return2_realized_volatility_100_max_stock',\n",
       " 'log_return2_realized_volatility_100_min_stock',\n",
       " 'trade_log_return_realized_volatility_mean_stock',\n",
       " 'trade_log_return_realized_volatility_std_stock',\n",
       " 'trade_log_return_realized_volatility_max_stock',\n",
       " 'trade_log_return_realized_volatility_min_stock',\n",
       " 'trade_log_return_realized_volatility_500_mean_stock',\n",
       " 'trade_log_return_realized_volatility_500_std_stock',\n",
       " 'trade_log_return_realized_volatility_500_max_stock',\n",
       " 'trade_log_return_realized_volatility_500_min_stock',\n",
       " 'trade_log_return_realized_volatility_400_mean_stock',\n",
       " 'trade_log_return_realized_volatility_400_std_stock',\n",
       " 'trade_log_return_realized_volatility_400_max_stock',\n",
       " 'trade_log_return_realized_volatility_400_min_stock',\n",
       " 'trade_log_return_realized_volatility_300_mean_stock',\n",
       " 'trade_log_return_realized_volatility_300_std_stock',\n",
       " 'trade_log_return_realized_volatility_300_max_stock',\n",
       " 'trade_log_return_realized_volatility_300_min_stock',\n",
       " 'trade_log_return_realized_volatility_200_mean_stock',\n",
       " 'trade_log_return_realized_volatility_200_std_stock',\n",
       " 'trade_log_return_realized_volatility_200_max_stock',\n",
       " 'trade_log_return_realized_volatility_200_min_stock',\n",
       " 'trade_log_return_realized_volatility_100_mean_stock',\n",
       " 'trade_log_return_realized_volatility_100_std_stock',\n",
       " 'trade_log_return_realized_volatility_100_max_stock',\n",
       " 'trade_log_return_realized_volatility_100_min_stock',\n",
       " 'log_return_realized_volatility_mean_time',\n",
       " 'log_return_realized_volatility_std_time',\n",
       " 'log_return_realized_volatility_max_time',\n",
       " 'log_return_realized_volatility_min_time',\n",
       " 'log_return2_realized_volatility_mean_time',\n",
       " 'log_return2_realized_volatility_std_time',\n",
       " 'log_return2_realized_volatility_max_time',\n",
       " 'log_return2_realized_volatility_min_time',\n",
       " 'log_return_realized_volatility_500_mean_time',\n",
       " 'log_return_realized_volatility_500_std_time',\n",
       " 'log_return_realized_volatility_500_max_time',\n",
       " 'log_return_realized_volatility_500_min_time',\n",
       " 'log_return2_realized_volatility_500_mean_time',\n",
       " 'log_return2_realized_volatility_500_std_time',\n",
       " 'log_return2_realized_volatility_500_max_time',\n",
       " 'log_return2_realized_volatility_500_min_time',\n",
       " 'log_return_realized_volatility_400_mean_time',\n",
       " 'log_return_realized_volatility_400_std_time',\n",
       " 'log_return_realized_volatility_400_max_time',\n",
       " 'log_return_realized_volatility_400_min_time',\n",
       " 'log_return2_realized_volatility_400_mean_time',\n",
       " 'log_return2_realized_volatility_400_std_time',\n",
       " 'log_return2_realized_volatility_400_max_time',\n",
       " 'log_return2_realized_volatility_400_min_time',\n",
       " 'log_return_realized_volatility_300_mean_time',\n",
       " 'log_return_realized_volatility_300_std_time',\n",
       " 'log_return_realized_volatility_300_max_time',\n",
       " 'log_return_realized_volatility_300_min_time',\n",
       " 'log_return2_realized_volatility_300_mean_time',\n",
       " 'log_return2_realized_volatility_300_std_time',\n",
       " 'log_return2_realized_volatility_300_max_time',\n",
       " 'log_return2_realized_volatility_300_min_time',\n",
       " 'log_return_realized_volatility_200_mean_time',\n",
       " 'log_return_realized_volatility_200_std_time',\n",
       " 'log_return_realized_volatility_200_max_time',\n",
       " 'log_return_realized_volatility_200_min_time',\n",
       " 'log_return2_realized_volatility_200_mean_time',\n",
       " 'log_return2_realized_volatility_200_std_time',\n",
       " 'log_return2_realized_volatility_200_max_time',\n",
       " 'log_return2_realized_volatility_200_min_time',\n",
       " 'log_return_realized_volatility_100_mean_time',\n",
       " 'log_return_realized_volatility_100_std_time',\n",
       " 'log_return_realized_volatility_100_max_time',\n",
       " 'log_return_realized_volatility_100_min_time',\n",
       " 'log_return2_realized_volatility_100_mean_time',\n",
       " 'log_return2_realized_volatility_100_std_time',\n",
       " 'log_return2_realized_volatility_100_max_time',\n",
       " 'log_return2_realized_volatility_100_min_time',\n",
       " 'trade_log_return_realized_volatility_mean_time',\n",
       " 'trade_log_return_realized_volatility_std_time',\n",
       " 'trade_log_return_realized_volatility_max_time',\n",
       " 'trade_log_return_realized_volatility_min_time',\n",
       " 'trade_log_return_realized_volatility_500_mean_time',\n",
       " 'trade_log_return_realized_volatility_500_std_time',\n",
       " 'trade_log_return_realized_volatility_500_max_time',\n",
       " 'trade_log_return_realized_volatility_500_min_time',\n",
       " 'trade_log_return_realized_volatility_400_mean_time',\n",
       " 'trade_log_return_realized_volatility_400_std_time',\n",
       " 'trade_log_return_realized_volatility_400_max_time',\n",
       " 'trade_log_return_realized_volatility_400_min_time',\n",
       " 'trade_log_return_realized_volatility_300_mean_time',\n",
       " 'trade_log_return_realized_volatility_300_std_time',\n",
       " 'trade_log_return_realized_volatility_300_max_time',\n",
       " 'trade_log_return_realized_volatility_300_min_time',\n",
       " 'trade_log_return_realized_volatility_200_mean_time',\n",
       " 'trade_log_return_realized_volatility_200_std_time',\n",
       " 'trade_log_return_realized_volatility_200_max_time',\n",
       " 'trade_log_return_realized_volatility_200_min_time',\n",
       " 'trade_log_return_realized_volatility_100_mean_time',\n",
       " 'trade_log_return_realized_volatility_100_std_time',\n",
       " 'trade_log_return_realized_volatility_100_max_time',\n",
       " 'trade_log_return_realized_volatility_100_min_time']"
      ]
     },
     "metadata": {},
     "execution_count": 5
    }
   ],
   "metadata": {}
  },
  {
   "cell_type": "code",
   "execution_count": 6,
   "source": [
    "volatility = [col for col in list(df_train) if 'trade_log_return_realized_volatility' in col]\n",
    "volatility"
   ],
   "outputs": [
    {
     "output_type": "execute_result",
     "data": {
      "text/plain": [
       "['trade_log_return_realized_volatility',\n",
       " 'trade_log_return_realized_volatility_500',\n",
       " 'trade_log_return_realized_volatility_400',\n",
       " 'trade_log_return_realized_volatility_300',\n",
       " 'trade_log_return_realized_volatility_200',\n",
       " 'trade_log_return_realized_volatility_100',\n",
       " 'trade_log_return_realized_volatility_mean_stock',\n",
       " 'trade_log_return_realized_volatility_std_stock',\n",
       " 'trade_log_return_realized_volatility_max_stock',\n",
       " 'trade_log_return_realized_volatility_min_stock',\n",
       " 'trade_log_return_realized_volatility_500_mean_stock',\n",
       " 'trade_log_return_realized_volatility_500_std_stock',\n",
       " 'trade_log_return_realized_volatility_500_max_stock',\n",
       " 'trade_log_return_realized_volatility_500_min_stock',\n",
       " 'trade_log_return_realized_volatility_400_mean_stock',\n",
       " 'trade_log_return_realized_volatility_400_std_stock',\n",
       " 'trade_log_return_realized_volatility_400_max_stock',\n",
       " 'trade_log_return_realized_volatility_400_min_stock',\n",
       " 'trade_log_return_realized_volatility_300_mean_stock',\n",
       " 'trade_log_return_realized_volatility_300_std_stock',\n",
       " 'trade_log_return_realized_volatility_300_max_stock',\n",
       " 'trade_log_return_realized_volatility_300_min_stock',\n",
       " 'trade_log_return_realized_volatility_200_mean_stock',\n",
       " 'trade_log_return_realized_volatility_200_std_stock',\n",
       " 'trade_log_return_realized_volatility_200_max_stock',\n",
       " 'trade_log_return_realized_volatility_200_min_stock',\n",
       " 'trade_log_return_realized_volatility_100_mean_stock',\n",
       " 'trade_log_return_realized_volatility_100_std_stock',\n",
       " 'trade_log_return_realized_volatility_100_max_stock',\n",
       " 'trade_log_return_realized_volatility_100_min_stock',\n",
       " 'trade_log_return_realized_volatility_mean_time',\n",
       " 'trade_log_return_realized_volatility_std_time',\n",
       " 'trade_log_return_realized_volatility_max_time',\n",
       " 'trade_log_return_realized_volatility_min_time',\n",
       " 'trade_log_return_realized_volatility_500_mean_time',\n",
       " 'trade_log_return_realized_volatility_500_std_time',\n",
       " 'trade_log_return_realized_volatility_500_max_time',\n",
       " 'trade_log_return_realized_volatility_500_min_time',\n",
       " 'trade_log_return_realized_volatility_400_mean_time',\n",
       " 'trade_log_return_realized_volatility_400_std_time',\n",
       " 'trade_log_return_realized_volatility_400_max_time',\n",
       " 'trade_log_return_realized_volatility_400_min_time',\n",
       " 'trade_log_return_realized_volatility_300_mean_time',\n",
       " 'trade_log_return_realized_volatility_300_std_time',\n",
       " 'trade_log_return_realized_volatility_300_max_time',\n",
       " 'trade_log_return_realized_volatility_300_min_time',\n",
       " 'trade_log_return_realized_volatility_200_mean_time',\n",
       " 'trade_log_return_realized_volatility_200_std_time',\n",
       " 'trade_log_return_realized_volatility_200_max_time',\n",
       " 'trade_log_return_realized_volatility_200_min_time',\n",
       " 'trade_log_return_realized_volatility_100_mean_time',\n",
       " 'trade_log_return_realized_volatility_100_std_time',\n",
       " 'trade_log_return_realized_volatility_100_max_time',\n",
       " 'trade_log_return_realized_volatility_100_min_time']"
      ]
     },
     "metadata": {},
     "execution_count": 6
    }
   ],
   "metadata": {}
  },
  {
   "cell_type": "code",
   "execution_count": 7,
   "source": [
    "volume = [col for col in list(df_train) if 'order_count' in col]\n",
    "volume"
   ],
   "outputs": [
    {
     "output_type": "execute_result",
     "data": {
      "text/plain": [
       "['trade_order_count_mean',\n",
       " 'trade_order_count_amax',\n",
       " 'trade_order_count_sum',\n",
       " 'trade_order_count_mean_500',\n",
       " 'trade_order_count_amax_500',\n",
       " 'trade_order_count_sum_500',\n",
       " 'trade_order_count_mean_400',\n",
       " 'trade_order_count_amax_400',\n",
       " 'trade_order_count_sum_400',\n",
       " 'trade_order_count_mean_300',\n",
       " 'trade_order_count_amax_300',\n",
       " 'trade_order_count_sum_300',\n",
       " 'trade_order_count_mean_200',\n",
       " 'trade_order_count_amax_200',\n",
       " 'trade_order_count_sum_200',\n",
       " 'trade_order_count_mean_100',\n",
       " 'trade_order_count_amax_100',\n",
       " 'trade_order_count_sum_100']"
      ]
     },
     "metadata": {},
     "execution_count": 7
    }
   ],
   "metadata": {}
  },
  {
   "cell_type": "code",
   "execution_count": 8,
   "source": [
    "df_new_train = pickle.load(open('/home/yoshikawa/work/kaggle/OPVP/output/feature_model/20210907/lgbm_add_cluster_feature/train.pkl', 'rb'))"
   ],
   "outputs": [],
   "metadata": {}
  },
  {
   "cell_type": "code",
   "execution_count": 9,
   "source": [
    "train_num_data = df_train.drop(['stock_id', 'time_id', 'row_id', 'target'], axis=1)\n",
    "train_num_data.replace([np.inf, -np.inf], np.nan, inplace = True)\n",
    "train_num_data = train_num_data.fillna(train_num_data.mean())\n"
   ],
   "outputs": [],
   "metadata": {}
  },
  {
   "cell_type": "code",
   "execution_count": 11,
   "source": [
    "%matplotlib inline\n",
    "import matplotlib.pyplot as plt\n",
    "\n",
    "df_new_train['log_return_realized_volatility'].hist()\n",
    "plt.show()"
   ],
   "outputs": [
    {
     "output_type": "display_data",
     "data": {
      "text/plain": [
       "<Figure size 432x288 with 1 Axes>"
      ],
      "image/svg+xml": "<?xml version=\"1.0\" encoding=\"utf-8\" standalone=\"no\"?>\n<!DOCTYPE svg PUBLIC \"-//W3C//DTD SVG 1.1//EN\"\n  \"http://www.w3.org/Graphics/SVG/1.1/DTD/svg11.dtd\">\n<!-- Created with matplotlib (https://matplotlib.org/) -->\n<svg height=\"248.518125pt\" version=\"1.1\" viewBox=\"0 0 394.375 248.518125\" width=\"394.375pt\" xmlns=\"http://www.w3.org/2000/svg\" xmlns:xlink=\"http://www.w3.org/1999/xlink\">\n <metadata>\n  <rdf:RDF xmlns:cc=\"http://creativecommons.org/ns#\" xmlns:dc=\"http://purl.org/dc/elements/1.1/\" xmlns:rdf=\"http://www.w3.org/1999/02/22-rdf-syntax-ns#\">\n   <cc:Work>\n    <dc:type rdf:resource=\"http://purl.org/dc/dcmitype/StillImage\"/>\n    <dc:date>2021-09-08T00:02:15.468549</dc:date>\n    <dc:format>image/svg+xml</dc:format>\n    <dc:creator>\n     <cc:Agent>\n      <dc:title>Matplotlib v3.3.4, https://matplotlib.org/</dc:title>\n     </cc:Agent>\n    </dc:creator>\n   </cc:Work>\n  </rdf:RDF>\n </metadata>\n <defs>\n  <style type=\"text/css\">*{stroke-linecap:butt;stroke-linejoin:round;}</style>\n </defs>\n <g id=\"figure_1\">\n  <g id=\"patch_1\">\n   <path d=\"M 0 248.518125 \nL 394.375 248.518125 \nL 394.375 0 \nL 0 0 \nz\n\" style=\"fill:none;\"/>\n  </g>\n  <g id=\"axes_1\">\n   <g id=\"patch_2\">\n    <path d=\"M 52.375 224.64 \nL 387.175 224.64 \nL 387.175 7.2 \nL 52.375 7.2 \nz\n\" style=\"fill:#ffffff;\"/>\n   </g>\n   <g id=\"patch_3\">\n    <path clip-path=\"url(#p1e10f87ff5)\" d=\"M 67.593182 224.64 \nL 98.029545 224.64 \nL 98.029545 17.554286 \nL 67.593182 17.554286 \nz\n\" style=\"fill:#1f77b4;\"/>\n   </g>\n   <g id=\"patch_4\">\n    <path clip-path=\"url(#p1e10f87ff5)\" d=\"M 98.029545 224.64 \nL 128.465909 224.64 \nL 128.465909 207.430438 \nL 98.029545 207.430438 \nz\n\" style=\"fill:#1f77b4;\"/>\n   </g>\n   <g id=\"patch_5\">\n    <path clip-path=\"url(#p1e10f87ff5)\" d=\"M 128.465909 224.64 \nL 158.902273 224.64 \nL 158.902273 222.532858 \nL 128.465909 222.532858 \nz\n\" style=\"fill:#1f77b4;\"/>\n   </g>\n   <g id=\"patch_6\">\n    <path clip-path=\"url(#p1e10f87ff5)\" d=\"M 158.902273 224.64 \nL 189.338636 224.64 \nL 189.338636 224.236775 \nL 158.902273 224.236775 \nz\n\" style=\"fill:#1f77b4;\"/>\n   </g>\n   <g id=\"patch_7\">\n    <path clip-path=\"url(#p1e10f87ff5)\" d=\"M 189.338636 224.64 \nL 219.775 224.64 \nL 219.775 224.523583 \nL 189.338636 224.523583 \nz\n\" style=\"fill:#1f77b4;\"/>\n   </g>\n   <g id=\"patch_8\">\n    <path clip-path=\"url(#p1e10f87ff5)\" d=\"M 219.775 224.64 \nL 250.211364 224.64 \nL 250.211364 224.60825 \nL 219.775 224.60825 \nz\n\" style=\"fill:#1f77b4;\"/>\n   </g>\n   <g id=\"patch_9\">\n    <path clip-path=\"url(#p1e10f87ff5)\" d=\"M 250.211364 224.64 \nL 280.647727 224.64 \nL 280.647727 224.626771 \nL 250.211364 224.626771 \nz\n\" style=\"fill:#1f77b4;\"/>\n   </g>\n   <g id=\"patch_10\">\n    <path clip-path=\"url(#p1e10f87ff5)\" d=\"M 280.647727 224.64 \nL 311.084091 224.64 \nL 311.084091 224.635237 \nL 280.647727 224.635237 \nz\n\" style=\"fill:#1f77b4;\"/>\n   </g>\n   <g id=\"patch_11\">\n    <path clip-path=\"url(#p1e10f87ff5)\" d=\"M 311.084091 224.64 \nL 341.520455 224.64 \nL 341.520455 224.636825 \nL 311.084091 224.636825 \nz\n\" style=\"fill:#1f77b4;\"/>\n   </g>\n   <g id=\"patch_12\">\n    <path clip-path=\"url(#p1e10f87ff5)\" d=\"M 341.520455 224.64 \nL 371.956818 224.64 \nL 371.956818 224.638412 \nL 341.520455 224.638412 \nz\n\" style=\"fill:#1f77b4;\"/>\n   </g>\n   <g id=\"matplotlib.axis_1\">\n    <g id=\"xtick_1\">\n     <g id=\"line2d_1\">\n      <path clip-path=\"url(#p1e10f87ff5)\" d=\"M 67.308852 224.64 \nL 67.308852 7.2 \n\" style=\"fill:none;stroke:#b0b0b0;stroke-linecap:square;stroke-width:0.8;\"/>\n     </g>\n     <g id=\"line2d_2\">\n      <defs>\n       <path d=\"M 0 0 \nL 0 3.5 \n\" id=\"m3c02a307dd\" style=\"stroke:#000000;stroke-width:0.8;\"/>\n      </defs>\n      <g>\n       <use style=\"stroke:#000000;stroke-width:0.8;\" x=\"67.308852\" xlink:href=\"#m3c02a307dd\" y=\"224.64\"/>\n      </g>\n     </g>\n     <g id=\"text_1\">\n      <!-- 0.00 -->\n      <g transform=\"translate(56.176039 239.238437)scale(0.1 -0.1)\">\n       <defs>\n        <path d=\"M 31.78125 66.40625 \nQ 24.171875 66.40625 20.328125 58.90625 \nQ 16.5 51.421875 16.5 36.375 \nQ 16.5 21.390625 20.328125 13.890625 \nQ 24.171875 6.390625 31.78125 6.390625 \nQ 39.453125 6.390625 43.28125 13.890625 \nQ 47.125 21.390625 47.125 36.375 \nQ 47.125 51.421875 43.28125 58.90625 \nQ 39.453125 66.40625 31.78125 66.40625 \nz\nM 31.78125 74.21875 \nQ 44.046875 74.21875 50.515625 64.515625 \nQ 56.984375 54.828125 56.984375 36.375 \nQ 56.984375 17.96875 50.515625 8.265625 \nQ 44.046875 -1.421875 31.78125 -1.421875 \nQ 19.53125 -1.421875 13.0625 8.265625 \nQ 6.59375 17.96875 6.59375 36.375 \nQ 6.59375 54.828125 13.0625 64.515625 \nQ 19.53125 74.21875 31.78125 74.21875 \nz\n\" id=\"DejaVuSans-48\"/>\n        <path d=\"M 10.6875 12.40625 \nL 21 12.40625 \nL 21 0 \nL 10.6875 0 \nz\n\" id=\"DejaVuSans-46\"/>\n       </defs>\n       <use xlink:href=\"#DejaVuSans-48\"/>\n       <use x=\"63.623047\" xlink:href=\"#DejaVuSans-46\"/>\n       <use x=\"95.410156\" xlink:href=\"#DejaVuSans-48\"/>\n       <use x=\"159.033203\" xlink:href=\"#DejaVuSans-48\"/>\n      </g>\n     </g>\n    </g>\n    <g id=\"xtick_2\">\n     <g id=\"line2d_3\">\n      <path clip-path=\"url(#p1e10f87ff5)\" d=\"M 137.812091 224.64 \nL 137.812091 7.2 \n\" style=\"fill:none;stroke:#b0b0b0;stroke-linecap:square;stroke-width:0.8;\"/>\n     </g>\n     <g id=\"line2d_4\">\n      <g>\n       <use style=\"stroke:#000000;stroke-width:0.8;\" x=\"137.812091\" xlink:href=\"#m3c02a307dd\" y=\"224.64\"/>\n      </g>\n     </g>\n     <g id=\"text_2\">\n      <!-- 0.02 -->\n      <g transform=\"translate(126.679279 239.238437)scale(0.1 -0.1)\">\n       <defs>\n        <path d=\"M 19.1875 8.296875 \nL 53.609375 8.296875 \nL 53.609375 0 \nL 7.328125 0 \nL 7.328125 8.296875 \nQ 12.9375 14.109375 22.625 23.890625 \nQ 32.328125 33.6875 34.8125 36.53125 \nQ 39.546875 41.84375 41.421875 45.53125 \nQ 43.3125 49.21875 43.3125 52.78125 \nQ 43.3125 58.59375 39.234375 62.25 \nQ 35.15625 65.921875 28.609375 65.921875 \nQ 23.96875 65.921875 18.8125 64.3125 \nQ 13.671875 62.703125 7.8125 59.421875 \nL 7.8125 69.390625 \nQ 13.765625 71.78125 18.9375 73 \nQ 24.125 74.21875 28.421875 74.21875 \nQ 39.75 74.21875 46.484375 68.546875 \nQ 53.21875 62.890625 53.21875 53.421875 \nQ 53.21875 48.921875 51.53125 44.890625 \nQ 49.859375 40.875 45.40625 35.40625 \nQ 44.1875 33.984375 37.640625 27.21875 \nQ 31.109375 20.453125 19.1875 8.296875 \nz\n\" id=\"DejaVuSans-50\"/>\n       </defs>\n       <use xlink:href=\"#DejaVuSans-48\"/>\n       <use x=\"63.623047\" xlink:href=\"#DejaVuSans-46\"/>\n       <use x=\"95.410156\" xlink:href=\"#DejaVuSans-48\"/>\n       <use x=\"159.033203\" xlink:href=\"#DejaVuSans-50\"/>\n      </g>\n     </g>\n    </g>\n    <g id=\"xtick_3\">\n     <g id=\"line2d_5\">\n      <path clip-path=\"url(#p1e10f87ff5)\" d=\"M 208.315331 224.64 \nL 208.315331 7.2 \n\" style=\"fill:none;stroke:#b0b0b0;stroke-linecap:square;stroke-width:0.8;\"/>\n     </g>\n     <g id=\"line2d_6\">\n      <g>\n       <use style=\"stroke:#000000;stroke-width:0.8;\" x=\"208.315331\" xlink:href=\"#m3c02a307dd\" y=\"224.64\"/>\n      </g>\n     </g>\n     <g id=\"text_3\">\n      <!-- 0.04 -->\n      <g transform=\"translate(197.182519 239.238437)scale(0.1 -0.1)\">\n       <defs>\n        <path d=\"M 37.796875 64.3125 \nL 12.890625 25.390625 \nL 37.796875 25.390625 \nz\nM 35.203125 72.90625 \nL 47.609375 72.90625 \nL 47.609375 25.390625 \nL 58.015625 25.390625 \nL 58.015625 17.1875 \nL 47.609375 17.1875 \nL 47.609375 0 \nL 37.796875 0 \nL 37.796875 17.1875 \nL 4.890625 17.1875 \nL 4.890625 26.703125 \nz\n\" id=\"DejaVuSans-52\"/>\n       </defs>\n       <use xlink:href=\"#DejaVuSans-48\"/>\n       <use x=\"63.623047\" xlink:href=\"#DejaVuSans-46\"/>\n       <use x=\"95.410156\" xlink:href=\"#DejaVuSans-48\"/>\n       <use x=\"159.033203\" xlink:href=\"#DejaVuSans-52\"/>\n      </g>\n     </g>\n    </g>\n    <g id=\"xtick_4\">\n     <g id=\"line2d_7\">\n      <path clip-path=\"url(#p1e10f87ff5)\" d=\"M 278.818571 224.64 \nL 278.818571 7.2 \n\" style=\"fill:none;stroke:#b0b0b0;stroke-linecap:square;stroke-width:0.8;\"/>\n     </g>\n     <g id=\"line2d_8\">\n      <g>\n       <use style=\"stroke:#000000;stroke-width:0.8;\" x=\"278.818571\" xlink:href=\"#m3c02a307dd\" y=\"224.64\"/>\n      </g>\n     </g>\n     <g id=\"text_4\">\n      <!-- 0.06 -->\n      <g transform=\"translate(267.685758 239.238437)scale(0.1 -0.1)\">\n       <defs>\n        <path d=\"M 33.015625 40.375 \nQ 26.375 40.375 22.484375 35.828125 \nQ 18.609375 31.296875 18.609375 23.390625 \nQ 18.609375 15.53125 22.484375 10.953125 \nQ 26.375 6.390625 33.015625 6.390625 \nQ 39.65625 6.390625 43.53125 10.953125 \nQ 47.40625 15.53125 47.40625 23.390625 \nQ 47.40625 31.296875 43.53125 35.828125 \nQ 39.65625 40.375 33.015625 40.375 \nz\nM 52.59375 71.296875 \nL 52.59375 62.3125 \nQ 48.875 64.0625 45.09375 64.984375 \nQ 41.3125 65.921875 37.59375 65.921875 \nQ 27.828125 65.921875 22.671875 59.328125 \nQ 17.53125 52.734375 16.796875 39.40625 \nQ 19.671875 43.65625 24.015625 45.921875 \nQ 28.375 48.1875 33.59375 48.1875 \nQ 44.578125 48.1875 50.953125 41.515625 \nQ 57.328125 34.859375 57.328125 23.390625 \nQ 57.328125 12.15625 50.6875 5.359375 \nQ 44.046875 -1.421875 33.015625 -1.421875 \nQ 20.359375 -1.421875 13.671875 8.265625 \nQ 6.984375 17.96875 6.984375 36.375 \nQ 6.984375 53.65625 15.1875 63.9375 \nQ 23.390625 74.21875 37.203125 74.21875 \nQ 40.921875 74.21875 44.703125 73.484375 \nQ 48.484375 72.75 52.59375 71.296875 \nz\n\" id=\"DejaVuSans-54\"/>\n       </defs>\n       <use xlink:href=\"#DejaVuSans-48\"/>\n       <use x=\"63.623047\" xlink:href=\"#DejaVuSans-46\"/>\n       <use x=\"95.410156\" xlink:href=\"#DejaVuSans-48\"/>\n       <use x=\"159.033203\" xlink:href=\"#DejaVuSans-54\"/>\n      </g>\n     </g>\n    </g>\n    <g id=\"xtick_5\">\n     <g id=\"line2d_9\">\n      <path clip-path=\"url(#p1e10f87ff5)\" d=\"M 349.321811 224.64 \nL 349.321811 7.2 \n\" style=\"fill:none;stroke:#b0b0b0;stroke-linecap:square;stroke-width:0.8;\"/>\n     </g>\n     <g id=\"line2d_10\">\n      <g>\n       <use style=\"stroke:#000000;stroke-width:0.8;\" x=\"349.321811\" xlink:href=\"#m3c02a307dd\" y=\"224.64\"/>\n      </g>\n     </g>\n     <g id=\"text_5\">\n      <!-- 0.08 -->\n      <g transform=\"translate(338.188998 239.238437)scale(0.1 -0.1)\">\n       <defs>\n        <path d=\"M 31.78125 34.625 \nQ 24.75 34.625 20.71875 30.859375 \nQ 16.703125 27.09375 16.703125 20.515625 \nQ 16.703125 13.921875 20.71875 10.15625 \nQ 24.75 6.390625 31.78125 6.390625 \nQ 38.8125 6.390625 42.859375 10.171875 \nQ 46.921875 13.96875 46.921875 20.515625 \nQ 46.921875 27.09375 42.890625 30.859375 \nQ 38.875 34.625 31.78125 34.625 \nz\nM 21.921875 38.8125 \nQ 15.578125 40.375 12.03125 44.71875 \nQ 8.5 49.078125 8.5 55.328125 \nQ 8.5 64.0625 14.71875 69.140625 \nQ 20.953125 74.21875 31.78125 74.21875 \nQ 42.671875 74.21875 48.875 69.140625 \nQ 55.078125 64.0625 55.078125 55.328125 \nQ 55.078125 49.078125 51.53125 44.71875 \nQ 48 40.375 41.703125 38.8125 \nQ 48.828125 37.15625 52.796875 32.3125 \nQ 56.78125 27.484375 56.78125 20.515625 \nQ 56.78125 9.90625 50.3125 4.234375 \nQ 43.84375 -1.421875 31.78125 -1.421875 \nQ 19.734375 -1.421875 13.25 4.234375 \nQ 6.78125 9.90625 6.78125 20.515625 \nQ 6.78125 27.484375 10.78125 32.3125 \nQ 14.796875 37.15625 21.921875 38.8125 \nz\nM 18.3125 54.390625 \nQ 18.3125 48.734375 21.84375 45.5625 \nQ 25.390625 42.390625 31.78125 42.390625 \nQ 38.140625 42.390625 41.71875 45.5625 \nQ 45.3125 48.734375 45.3125 54.390625 \nQ 45.3125 60.0625 41.71875 63.234375 \nQ 38.140625 66.40625 31.78125 66.40625 \nQ 25.390625 66.40625 21.84375 63.234375 \nQ 18.3125 60.0625 18.3125 54.390625 \nz\n\" id=\"DejaVuSans-56\"/>\n       </defs>\n       <use xlink:href=\"#DejaVuSans-48\"/>\n       <use x=\"63.623047\" xlink:href=\"#DejaVuSans-46\"/>\n       <use x=\"95.410156\" xlink:href=\"#DejaVuSans-48\"/>\n       <use x=\"159.033203\" xlink:href=\"#DejaVuSans-56\"/>\n      </g>\n     </g>\n    </g>\n   </g>\n   <g id=\"matplotlib.axis_2\">\n    <g id=\"ytick_1\">\n     <g id=\"line2d_11\">\n      <path clip-path=\"url(#p1e10f87ff5)\" d=\"M 52.375 224.64 \nL 387.175 224.64 \n\" style=\"fill:none;stroke:#b0b0b0;stroke-linecap:square;stroke-width:0.8;\"/>\n     </g>\n     <g id=\"line2d_12\">\n      <defs>\n       <path d=\"M 0 0 \nL -3.5 0 \n\" id=\"mdb430eae49\" style=\"stroke:#000000;stroke-width:0.8;\"/>\n      </defs>\n      <g>\n       <use style=\"stroke:#000000;stroke-width:0.8;\" x=\"52.375\" xlink:href=\"#mdb430eae49\" y=\"224.64\"/>\n      </g>\n     </g>\n     <g id=\"text_6\">\n      <!-- 0 -->\n      <g transform=\"translate(39.0125 228.439219)scale(0.1 -0.1)\">\n       <use xlink:href=\"#DejaVuSans-48\"/>\n      </g>\n     </g>\n    </g>\n    <g id=\"ytick_2\">\n     <g id=\"line2d_13\">\n      <path clip-path=\"url(#p1e10f87ff5)\" d=\"M 52.375 198.181661 \nL 387.175 198.181661 \n\" style=\"fill:none;stroke:#b0b0b0;stroke-linecap:square;stroke-width:0.8;\"/>\n     </g>\n     <g id=\"line2d_14\">\n      <g>\n       <use style=\"stroke:#000000;stroke-width:0.8;\" x=\"52.375\" xlink:href=\"#mdb430eae49\" y=\"198.181661\"/>\n      </g>\n     </g>\n     <g id=\"text_7\">\n      <!-- 50000 -->\n      <g transform=\"translate(13.5625 201.98088)scale(0.1 -0.1)\">\n       <defs>\n        <path d=\"M 10.796875 72.90625 \nL 49.515625 72.90625 \nL 49.515625 64.59375 \nL 19.828125 64.59375 \nL 19.828125 46.734375 \nQ 21.96875 47.46875 24.109375 47.828125 \nQ 26.265625 48.1875 28.421875 48.1875 \nQ 40.625 48.1875 47.75 41.5 \nQ 54.890625 34.8125 54.890625 23.390625 \nQ 54.890625 11.625 47.5625 5.09375 \nQ 40.234375 -1.421875 26.90625 -1.421875 \nQ 22.3125 -1.421875 17.546875 -0.640625 \nQ 12.796875 0.140625 7.71875 1.703125 \nL 7.71875 11.625 \nQ 12.109375 9.234375 16.796875 8.0625 \nQ 21.484375 6.890625 26.703125 6.890625 \nQ 35.15625 6.890625 40.078125 11.328125 \nQ 45.015625 15.765625 45.015625 23.390625 \nQ 45.015625 31 40.078125 35.4375 \nQ 35.15625 39.890625 26.703125 39.890625 \nQ 22.75 39.890625 18.8125 39.015625 \nQ 14.890625 38.140625 10.796875 36.28125 \nz\n\" id=\"DejaVuSans-53\"/>\n       </defs>\n       <use xlink:href=\"#DejaVuSans-53\"/>\n       <use x=\"63.623047\" xlink:href=\"#DejaVuSans-48\"/>\n       <use x=\"127.246094\" xlink:href=\"#DejaVuSans-48\"/>\n       <use x=\"190.869141\" xlink:href=\"#DejaVuSans-48\"/>\n       <use x=\"254.492188\" xlink:href=\"#DejaVuSans-48\"/>\n      </g>\n     </g>\n    </g>\n    <g id=\"ytick_3\">\n     <g id=\"line2d_15\">\n      <path clip-path=\"url(#p1e10f87ff5)\" d=\"M 52.375 171.723322 \nL 387.175 171.723322 \n\" style=\"fill:none;stroke:#b0b0b0;stroke-linecap:square;stroke-width:0.8;\"/>\n     </g>\n     <g id=\"line2d_16\">\n      <g>\n       <use style=\"stroke:#000000;stroke-width:0.8;\" x=\"52.375\" xlink:href=\"#mdb430eae49\" y=\"171.723322\"/>\n      </g>\n     </g>\n     <g id=\"text_8\">\n      <!-- 100000 -->\n      <g transform=\"translate(7.2 175.522541)scale(0.1 -0.1)\">\n       <defs>\n        <path d=\"M 12.40625 8.296875 \nL 28.515625 8.296875 \nL 28.515625 63.921875 \nL 10.984375 60.40625 \nL 10.984375 69.390625 \nL 28.421875 72.90625 \nL 38.28125 72.90625 \nL 38.28125 8.296875 \nL 54.390625 8.296875 \nL 54.390625 0 \nL 12.40625 0 \nz\n\" id=\"DejaVuSans-49\"/>\n       </defs>\n       <use xlink:href=\"#DejaVuSans-49\"/>\n       <use x=\"63.623047\" xlink:href=\"#DejaVuSans-48\"/>\n       <use x=\"127.246094\" xlink:href=\"#DejaVuSans-48\"/>\n       <use x=\"190.869141\" xlink:href=\"#DejaVuSans-48\"/>\n       <use x=\"254.492188\" xlink:href=\"#DejaVuSans-48\"/>\n       <use x=\"318.115234\" xlink:href=\"#DejaVuSans-48\"/>\n      </g>\n     </g>\n    </g>\n    <g id=\"ytick_4\">\n     <g id=\"line2d_17\">\n      <path clip-path=\"url(#p1e10f87ff5)\" d=\"M 52.375 145.264983 \nL 387.175 145.264983 \n\" style=\"fill:none;stroke:#b0b0b0;stroke-linecap:square;stroke-width:0.8;\"/>\n     </g>\n     <g id=\"line2d_18\">\n      <g>\n       <use style=\"stroke:#000000;stroke-width:0.8;\" x=\"52.375\" xlink:href=\"#mdb430eae49\" y=\"145.264983\"/>\n      </g>\n     </g>\n     <g id=\"text_9\">\n      <!-- 150000 -->\n      <g transform=\"translate(7.2 149.064202)scale(0.1 -0.1)\">\n       <use xlink:href=\"#DejaVuSans-49\"/>\n       <use x=\"63.623047\" xlink:href=\"#DejaVuSans-53\"/>\n       <use x=\"127.246094\" xlink:href=\"#DejaVuSans-48\"/>\n       <use x=\"190.869141\" xlink:href=\"#DejaVuSans-48\"/>\n       <use x=\"254.492188\" xlink:href=\"#DejaVuSans-48\"/>\n       <use x=\"318.115234\" xlink:href=\"#DejaVuSans-48\"/>\n      </g>\n     </g>\n    </g>\n    <g id=\"ytick_5\">\n     <g id=\"line2d_19\">\n      <path clip-path=\"url(#p1e10f87ff5)\" d=\"M 52.375 118.806644 \nL 387.175 118.806644 \n\" style=\"fill:none;stroke:#b0b0b0;stroke-linecap:square;stroke-width:0.8;\"/>\n     </g>\n     <g id=\"line2d_20\">\n      <g>\n       <use style=\"stroke:#000000;stroke-width:0.8;\" x=\"52.375\" xlink:href=\"#mdb430eae49\" y=\"118.806644\"/>\n      </g>\n     </g>\n     <g id=\"text_10\">\n      <!-- 200000 -->\n      <g transform=\"translate(7.2 122.605863)scale(0.1 -0.1)\">\n       <use xlink:href=\"#DejaVuSans-50\"/>\n       <use x=\"63.623047\" xlink:href=\"#DejaVuSans-48\"/>\n       <use x=\"127.246094\" xlink:href=\"#DejaVuSans-48\"/>\n       <use x=\"190.869141\" xlink:href=\"#DejaVuSans-48\"/>\n       <use x=\"254.492188\" xlink:href=\"#DejaVuSans-48\"/>\n       <use x=\"318.115234\" xlink:href=\"#DejaVuSans-48\"/>\n      </g>\n     </g>\n    </g>\n    <g id=\"ytick_6\">\n     <g id=\"line2d_21\">\n      <path clip-path=\"url(#p1e10f87ff5)\" d=\"M 52.375 92.348306 \nL 387.175 92.348306 \n\" style=\"fill:none;stroke:#b0b0b0;stroke-linecap:square;stroke-width:0.8;\"/>\n     </g>\n     <g id=\"line2d_22\">\n      <g>\n       <use style=\"stroke:#000000;stroke-width:0.8;\" x=\"52.375\" xlink:href=\"#mdb430eae49\" y=\"92.348306\"/>\n      </g>\n     </g>\n     <g id=\"text_11\">\n      <!-- 250000 -->\n      <g transform=\"translate(7.2 96.147524)scale(0.1 -0.1)\">\n       <use xlink:href=\"#DejaVuSans-50\"/>\n       <use x=\"63.623047\" xlink:href=\"#DejaVuSans-53\"/>\n       <use x=\"127.246094\" xlink:href=\"#DejaVuSans-48\"/>\n       <use x=\"190.869141\" xlink:href=\"#DejaVuSans-48\"/>\n       <use x=\"254.492188\" xlink:href=\"#DejaVuSans-48\"/>\n       <use x=\"318.115234\" xlink:href=\"#DejaVuSans-48\"/>\n      </g>\n     </g>\n    </g>\n    <g id=\"ytick_7\">\n     <g id=\"line2d_23\">\n      <path clip-path=\"url(#p1e10f87ff5)\" d=\"M 52.375 65.889967 \nL 387.175 65.889967 \n\" style=\"fill:none;stroke:#b0b0b0;stroke-linecap:square;stroke-width:0.8;\"/>\n     </g>\n     <g id=\"line2d_24\">\n      <g>\n       <use style=\"stroke:#000000;stroke-width:0.8;\" x=\"52.375\" xlink:href=\"#mdb430eae49\" y=\"65.889967\"/>\n      </g>\n     </g>\n     <g id=\"text_12\">\n      <!-- 300000 -->\n      <g transform=\"translate(7.2 69.689185)scale(0.1 -0.1)\">\n       <defs>\n        <path d=\"M 40.578125 39.3125 \nQ 47.65625 37.796875 51.625 33 \nQ 55.609375 28.21875 55.609375 21.1875 \nQ 55.609375 10.40625 48.1875 4.484375 \nQ 40.765625 -1.421875 27.09375 -1.421875 \nQ 22.515625 -1.421875 17.65625 -0.515625 \nQ 12.796875 0.390625 7.625 2.203125 \nL 7.625 11.71875 \nQ 11.71875 9.328125 16.59375 8.109375 \nQ 21.484375 6.890625 26.8125 6.890625 \nQ 36.078125 6.890625 40.9375 10.546875 \nQ 45.796875 14.203125 45.796875 21.1875 \nQ 45.796875 27.640625 41.28125 31.265625 \nQ 36.765625 34.90625 28.71875 34.90625 \nL 20.21875 34.90625 \nL 20.21875 43.015625 \nL 29.109375 43.015625 \nQ 36.375 43.015625 40.234375 45.921875 \nQ 44.09375 48.828125 44.09375 54.296875 \nQ 44.09375 59.90625 40.109375 62.90625 \nQ 36.140625 65.921875 28.71875 65.921875 \nQ 24.65625 65.921875 20.015625 65.03125 \nQ 15.375 64.15625 9.8125 62.3125 \nL 9.8125 71.09375 \nQ 15.4375 72.65625 20.34375 73.4375 \nQ 25.25 74.21875 29.59375 74.21875 \nQ 40.828125 74.21875 47.359375 69.109375 \nQ 53.90625 64.015625 53.90625 55.328125 \nQ 53.90625 49.265625 50.4375 45.09375 \nQ 46.96875 40.921875 40.578125 39.3125 \nz\n\" id=\"DejaVuSans-51\"/>\n       </defs>\n       <use xlink:href=\"#DejaVuSans-51\"/>\n       <use x=\"63.623047\" xlink:href=\"#DejaVuSans-48\"/>\n       <use x=\"127.246094\" xlink:href=\"#DejaVuSans-48\"/>\n       <use x=\"190.869141\" xlink:href=\"#DejaVuSans-48\"/>\n       <use x=\"254.492188\" xlink:href=\"#DejaVuSans-48\"/>\n       <use x=\"318.115234\" xlink:href=\"#DejaVuSans-48\"/>\n      </g>\n     </g>\n    </g>\n    <g id=\"ytick_8\">\n     <g id=\"line2d_25\">\n      <path clip-path=\"url(#p1e10f87ff5)\" d=\"M 52.375 39.431628 \nL 387.175 39.431628 \n\" style=\"fill:none;stroke:#b0b0b0;stroke-linecap:square;stroke-width:0.8;\"/>\n     </g>\n     <g id=\"line2d_26\">\n      <g>\n       <use style=\"stroke:#000000;stroke-width:0.8;\" x=\"52.375\" xlink:href=\"#mdb430eae49\" y=\"39.431628\"/>\n      </g>\n     </g>\n     <g id=\"text_13\">\n      <!-- 350000 -->\n      <g transform=\"translate(7.2 43.230847)scale(0.1 -0.1)\">\n       <use xlink:href=\"#DejaVuSans-51\"/>\n       <use x=\"63.623047\" xlink:href=\"#DejaVuSans-53\"/>\n       <use x=\"127.246094\" xlink:href=\"#DejaVuSans-48\"/>\n       <use x=\"190.869141\" xlink:href=\"#DejaVuSans-48\"/>\n       <use x=\"254.492188\" xlink:href=\"#DejaVuSans-48\"/>\n       <use x=\"318.115234\" xlink:href=\"#DejaVuSans-48\"/>\n      </g>\n     </g>\n    </g>\n    <g id=\"ytick_9\">\n     <g id=\"line2d_27\">\n      <path clip-path=\"url(#p1e10f87ff5)\" d=\"M 52.375 12.973289 \nL 387.175 12.973289 \n\" style=\"fill:none;stroke:#b0b0b0;stroke-linecap:square;stroke-width:0.8;\"/>\n     </g>\n     <g id=\"line2d_28\">\n      <g>\n       <use style=\"stroke:#000000;stroke-width:0.8;\" x=\"52.375\" xlink:href=\"#mdb430eae49\" y=\"12.973289\"/>\n      </g>\n     </g>\n     <g id=\"text_14\">\n      <!-- 400000 -->\n      <g transform=\"translate(7.2 16.772508)scale(0.1 -0.1)\">\n       <use xlink:href=\"#DejaVuSans-52\"/>\n       <use x=\"63.623047\" xlink:href=\"#DejaVuSans-48\"/>\n       <use x=\"127.246094\" xlink:href=\"#DejaVuSans-48\"/>\n       <use x=\"190.869141\" xlink:href=\"#DejaVuSans-48\"/>\n       <use x=\"254.492188\" xlink:href=\"#DejaVuSans-48\"/>\n       <use x=\"318.115234\" xlink:href=\"#DejaVuSans-48\"/>\n      </g>\n     </g>\n    </g>\n   </g>\n   <g id=\"patch_13\">\n    <path d=\"M 52.375 224.64 \nL 52.375 7.2 \n\" style=\"fill:none;stroke:#000000;stroke-linecap:square;stroke-linejoin:miter;stroke-width:0.8;\"/>\n   </g>\n   <g id=\"patch_14\">\n    <path d=\"M 387.175 224.64 \nL 387.175 7.2 \n\" style=\"fill:none;stroke:#000000;stroke-linecap:square;stroke-linejoin:miter;stroke-width:0.8;\"/>\n   </g>\n   <g id=\"patch_15\">\n    <path d=\"M 52.375 224.64 \nL 387.175 224.64 \n\" style=\"fill:none;stroke:#000000;stroke-linecap:square;stroke-linejoin:miter;stroke-width:0.8;\"/>\n   </g>\n   <g id=\"patch_16\">\n    <path d=\"M 52.375 7.2 \nL 387.175 7.2 \n\" style=\"fill:none;stroke:#000000;stroke-linecap:square;stroke-linejoin:miter;stroke-width:0.8;\"/>\n   </g>\n  </g>\n </g>\n <defs>\n  <clipPath id=\"p1e10f87ff5\">\n   <rect height=\"217.44\" width=\"334.8\" x=\"52.375\" y=\"7.2\"/>\n  </clipPath>\n </defs>\n</svg>\n",
      "image/png": "[encoded data removed]"
     },
     "metadata": {
      "needs_background": "light"
     }
    }
   ],
   "metadata": {}
  }
 ],
 "metadata": {
  "interpreter": {
   "hash": "283baaf4ce8ec1279b6a1eb52777837c25a71c1c72f4c54d87f2b7711be4d242"
  },
  "kernelspec": {
   "name": "python3",
   "display_name": "Python 3.7.10 64-bit ('kaggle': pyenv)"
  },
  "language_info": {
   "codemirror_mode": {
    "name": "ipython",
    "version": 3
   },
   "file_extension": ".py",
   "mimetype": "text/x-python",
   "name": "python",
   "nbconvert_exporter": "python",
   "pygments_lexer": "ipython3",
   "version": "3.7.10"
  },
  "orig_nbformat": 4
 },
 "nbformat": 4,
 "nbformat_minor": 2
}