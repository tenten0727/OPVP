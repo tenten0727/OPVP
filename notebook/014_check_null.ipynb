{
 "cells": [
  {
   "cell_type": "code",
   "execution_count": 1,
   "source": [
    "import pandas as pd"
   ],
   "outputs": [],
   "metadata": {}
  },
  {
   "cell_type": "code",
   "execution_count": 3,
   "source": [
    "df = pd.read_pickle('/home/yoshikawa/work/kaggle/OPVP/output/feature_model/20210901/new_feature_lgbm2/train.pkl')"
   ],
   "outputs": [],
   "metadata": {}
  },
  {
   "cell_type": "code",
   "execution_count": 4,
   "source": [
    "df.isnull().values.sum()"
   ],
   "outputs": [
    {
     "output_type": "execute_result",
     "data": {
      "text/plain": [
       "67111"
      ]
     },
     "metadata": {},
     "execution_count": 4
    }
   ],
   "metadata": {}
  },
  {
   "cell_type": "code",
   "execution_count": 25,
   "source": [
    "df.isnull().sum(axis=1).sort_values(ascending=False).head(50)"
   ],
   "outputs": [
    {
     "output_type": "execute_result",
     "data": {
      "text/plain": [
       "107915    87\n",
       "110999    87\n",
       "107999    87\n",
       "109660    87\n",
       "109054    87\n",
       "108666    87\n",
       "107340    87\n",
       "108339    87\n",
       "110585    87\n",
       "66123     87\n",
       "108878    87\n",
       "108289    87\n",
       "349646    87\n",
       "109932    87\n",
       "107922    87\n",
       "107715    87\n",
       "108832    87\n",
       "130223    87\n",
       "108297    87\n",
       "115584    67\n",
       "373676    58\n",
       "110125    58\n",
       "109218    58\n",
       "110529    58\n",
       "108534    58\n",
       "131827    58\n",
       "108564    58\n",
       "108035    58\n",
       "110840    58\n",
       "109479    58\n",
       "300956    58\n",
       "67834     58\n",
       "118333    58\n",
       "108354    58\n",
       "108063    58\n",
       "109896    58\n",
       "108587    58\n",
       "302457    56\n",
       "116888    52\n",
       "66635     47\n",
       "350057    47\n",
       "348874    47\n",
       "71        47\n",
       "77388     47\n",
       "107957    47\n",
       "270778    47\n",
       "110875    47\n",
       "132023    47\n",
       "94872     47\n",
       "118644    47\n",
       "dtype: int64"
      ]
     },
     "metadata": {},
     "execution_count": 25
    }
   ],
   "metadata": {}
  },
  {
   "cell_type": "code",
   "execution_count": null,
   "source": [],
   "outputs": [],
   "metadata": {}
  }
 ],
 "metadata": {
  "interpreter": {
   "hash": "31f2aee4e71d21fbe5cf8b01ff0e069b9275f58929596ceb00d14d90e3e16cd6"
  },
  "kernelspec": {
   "display_name": "Python 3.8.10 64-bit",
   "name": "python3"
  },
  "language_info": {
   "codemirror_mode": {
    "name": "ipython",
    "version": 3
   },
   "file_extension": ".py",
   "mimetype": "text/x-python",
   "name": "python",
   "nbconvert_exporter": "python",
   "pygments_lexer": "ipython3",
   "version": "3.7.10"
  },
  "orig_nbformat": 4
 },
 "nbformat": 4,
 "nbformat_minor": 2
}